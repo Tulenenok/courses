{
 "cells": [
  {
   "cell_type": "code",
   "execution_count": 3,
   "id": "94cfbb48",
   "metadata": {},
   "outputs": [],
   "source": [
    "import pandas as pd\n",
    "import numpy as np"
   ]
  },
  {
   "cell_type": "markdown",
   "id": "90998d13",
   "metadata": {},
   "source": [
    "### Series"
   ]
  },
  {
   "cell_type": "code",
   "execution_count": 4,
   "id": "94d57973",
   "metadata": {},
   "outputs": [],
   "source": [
    "series = pd.Series([-12, np.NAN, 1])"
   ]
  },
  {
   "cell_type": "code",
   "execution_count": 5,
   "id": "b2b9cfdf",
   "metadata": {},
   "outputs": [
    {
     "data": {
      "text/plain": [
       "RangeIndex(start=0, stop=3, step=1)"
      ]
     },
     "execution_count": 5,
     "metadata": {},
     "output_type": "execute_result"
    }
   ],
   "source": [
    "series.index"
   ]
  },
  {
   "cell_type": "code",
   "execution_count": 6,
   "id": "d1761b65",
   "metadata": {},
   "outputs": [
    {
     "data": {
      "text/plain": [
       "array([-12.,  nan,   1.])"
      ]
     },
     "execution_count": 6,
     "metadata": {},
     "output_type": "execute_result"
    }
   ],
   "source": [
    "series.values"
   ]
  },
  {
   "cell_type": "code",
   "execution_count": 7,
   "id": "78384bd3",
   "metadata": {},
   "outputs": [],
   "source": [
    "s2 = pd.Series([0, 1, 2], index=['a', 'b', 'c'])"
   ]
  },
  {
   "cell_type": "code",
   "execution_count": 8,
   "id": "ba23aa8c",
   "metadata": {},
   "outputs": [
    {
     "data": {
      "text/plain": [
       "a    0\n",
       "b    1\n",
       "c    2\n",
       "dtype: int64"
      ]
     },
     "execution_count": 8,
     "metadata": {},
     "output_type": "execute_result"
    }
   ],
   "source": [
    "s2"
   ]
  },
  {
   "cell_type": "code",
   "execution_count": 10,
   "id": "dcec56df",
   "metadata": {},
   "outputs": [
    {
     "data": {
      "text/plain": [
       "0   -12.0\n",
       "dtype: float64"
      ]
     },
     "execution_count": 10,
     "metadata": {},
     "output_type": "execute_result"
    }
   ],
   "source": [
    "series[0:1]"
   ]
  },
  {
   "cell_type": "code",
   "execution_count": 11,
   "id": "553c5fcd",
   "metadata": {},
   "outputs": [
    {
     "data": {
      "text/plain": [
       "0    False\n",
       "1    False\n",
       "2     True\n",
       "dtype: bool"
      ]
     },
     "execution_count": 11,
     "metadata": {},
     "output_type": "execute_result"
    }
   ],
   "source": [
    "series > 0"
   ]
  },
  {
   "cell_type": "code",
   "execution_count": 12,
   "id": "e80ae4e5",
   "metadata": {},
   "outputs": [
    {
     "data": {
      "text/plain": [
       "array([False, False,  True])"
      ]
     },
     "execution_count": 12,
     "metadata": {},
     "output_type": "execute_result"
    }
   ],
   "source": [
    "series.values > 0"
   ]
  },
  {
   "cell_type": "code",
   "execution_count": 15,
   "id": "872c8ff0",
   "metadata": {},
   "outputs": [
    {
     "data": {
      "text/plain": [
       "a    1\n",
       "b    2\n",
       "dtype: int64"
      ]
     },
     "execution_count": 15,
     "metadata": {},
     "output_type": "execute_result"
    }
   ],
   "source": [
    "pd.Series({'a' : 1, 'b' : 2})"
   ]
  },
  {
   "cell_type": "code",
   "execution_count": 16,
   "id": "1f1d09dd",
   "metadata": {},
   "outputs": [
    {
     "data": {
      "text/plain": [
       "0   -24.0\n",
       "1     NaN\n",
       "2     2.0\n",
       "dtype: float64"
      ]
     },
     "execution_count": 16,
     "metadata": {},
     "output_type": "execute_result"
    }
   ],
   "source": [
    "series + series"
   ]
  },
  {
   "cell_type": "code",
   "execution_count": 19,
   "id": "646f0da3",
   "metadata": {},
   "outputs": [
    {
     "data": {
      "text/plain": [
       "0    0.000006\n",
       "1         NaN\n",
       "2    2.718282\n",
       "dtype: float64"
      ]
     },
     "execution_count": 19,
     "metadata": {},
     "output_type": "execute_result"
    }
   ],
   "source": [
    "np.exp(series)"
   ]
  },
  {
   "cell_type": "code",
   "execution_count": 20,
   "id": "0da2b0e3",
   "metadata": {},
   "outputs": [],
   "source": [
    "series.index.name = 'a'"
   ]
  },
  {
   "cell_type": "code",
   "execution_count": 21,
   "id": "035d80ff",
   "metadata": {},
   "outputs": [
    {
     "data": {
      "text/plain": [
       "a\n",
       "0   -12.0\n",
       "1     NaN\n",
       "2     1.0\n",
       "dtype: float64"
      ]
     },
     "execution_count": 21,
     "metadata": {},
     "output_type": "execute_result"
    }
   ],
   "source": [
    "series"
   ]
  },
  {
   "cell_type": "code",
   "execution_count": 25,
   "id": "b3ccb265",
   "metadata": {},
   "outputs": [
    {
     "data": {
      "text/plain": [
       "1"
      ]
     },
     "execution_count": 25,
     "metadata": {},
     "output_type": "execute_result"
    }
   ],
   "source": [
    "s2.loc['b']              # причем правая граница включается"
   ]
  },
  {
   "cell_type": "code",
   "execution_count": 27,
   "id": "18eba834",
   "metadata": {},
   "outputs": [
    {
     "data": {
      "text/plain": [
       "a\n",
       "0   -12.0\n",
       "1     NaN\n",
       "dtype: float64"
      ]
     },
     "execution_count": 27,
     "metadata": {},
     "output_type": "execute_result"
    }
   ],
   "source": [
    "series.iloc[0:2]"
   ]
  },
  {
   "cell_type": "markdown",
   "id": "6fe5085f",
   "metadata": {},
   "source": [
    "### DataFrame"
   ]
  },
  {
   "cell_type": "code",
   "execution_count": null,
   "id": "f4a0d28c",
   "metadata": {},
   "outputs": [],
   "source": []
  }
 ],
 "metadata": {
  "kernelspec": {
   "display_name": "Python 3",
   "language": "python",
   "name": "python3"
  },
  "language_info": {
   "codemirror_mode": {
    "name": "ipython",
    "version": 3
   },
   "file_extension": ".py",
   "mimetype": "text/x-python",
   "name": "python",
   "nbconvert_exporter": "python",
   "pygments_lexer": "ipython3",
   "version": "3.8.11"
  }
 },
 "nbformat": 4,
 "nbformat_minor": 5
}
