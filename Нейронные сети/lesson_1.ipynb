{
 "cells": [
  {
   "cell_type": "markdown",
   "id": "d2d9219b",
   "metadata": {},
   "source": [
    "# Numpy"
   ]
  },
  {
   "cell_type": "code",
   "execution_count": 1,
   "id": "3dc91b41",
   "metadata": {},
   "outputs": [],
   "source": [
    "import numpy as np"
   ]
  },
  {
   "cell_type": "markdown",
   "id": "4a9f3d10",
   "metadata": {},
   "source": [
    "* **array(object)** — n-мерный массив из любой (возможно, вложенной) последовательности\n",
    "\n",
    "\n",
    "* **eye(N, M=N, k=0)** -- двумерный массив с N строками с единицами на диагонали и нулями во всех остальных позициях. Число столбцов M по умолчанию равно N, k — сдвиг диагонали (0 для основной диагонали, положительные числа для верхних диагоналей и отрицательные для нижних)\n",
    "\n",
    "\n",
    "* **zeros(shape)** -- новый массив указанной формы, заполненный нулями\n",
    "\n",
    "\n",
    "* **ones(shape)** -- новый массив указанной формы, заполненный единицами\n",
    "\n",
    "\n",
    "* **full(shape, fill_value)** -- новый массив указанной формы, заполненный fill_value"
   ]
  },
  {
   "cell_type": "code",
   "execution_count": 2,
   "id": "66f2e40a",
   "metadata": {},
   "outputs": [
    {
     "data": {
      "text/plain": [
       "array([[0., 0., 0.],\n",
       "       [1., 0., 0.],\n",
       "       [0., 1., 0.],\n",
       "       [0., 0., 1.],\n",
       "       [0., 0., 0.]])"
      ]
     },
     "execution_count": 2,
     "metadata": {},
     "output_type": "execute_result"
    }
   ],
   "source": [
    "np.eye(5, 3, k=-1)"
   ]
  },
  {
   "cell_type": "code",
   "execution_count": 3,
   "id": "7dcb9658",
   "metadata": {},
   "outputs": [
    {
     "data": {
      "text/plain": [
       "array([[1, 2, 3],\n",
       "       [4, 5, 6]])"
      ]
     },
     "execution_count": 3,
     "metadata": {},
     "output_type": "execute_result"
    }
   ],
   "source": [
    "np.array([[1,2,3], [4,5,6]])                          # матрица формы (2, 3) из последовательности последовательностей"
   ]
  },
  {
   "cell_type": "code",
   "execution_count": 4,
   "id": "d61c4186",
   "metadata": {},
   "outputs": [
    {
     "data": {
      "text/plain": [
       "array([[2., 1., 0., 0.],\n",
       "       [0., 2., 1., 0.],\n",
       "       [0., 0., 2., 1.]])"
      ]
     },
     "execution_count": 4,
     "metadata": {},
     "output_type": "execute_result"
    }
   ],
   "source": [
    "np.eye(3, 4, k=1) + 2 * np.eye(3, 4)"
   ]
  },
  {
   "cell_type": "markdown",
   "id": "991a5095",
   "metadata": {},
   "source": [
    "### Основные методы"
   ]
  },
  {
   "cell_type": "markdown",
   "id": "d6c4ac1a",
   "metadata": {},
   "source": [
    "* **a.flatten()** — превращает массив в одномерный.\n",
    "\n",
    "\n",
    "* **a.T или a.transpose(*axes)** — транспонирование (или смена порядка осей в случае, когда размерность массива больше двух).\n",
    "\n",
    "\n",
    "* **a.reshape(shape)** — смена формы массива. Массив \"распрямляется\" и построчно заполняется в новую форму."
   ]
  },
  {
   "cell_type": "code",
   "execution_count": null,
   "id": "b9fa69ff",
   "metadata": {},
   "outputs": [],
   "source": []
  },
  {
   "cell_type": "code",
   "execution_count": 5,
   "id": "e229cd12",
   "metadata": {},
   "outputs": [
    {
     "data": {
      "text/plain": [
       "array([[[531, 939, 159],\n",
       "        [571, 145, 282]],\n",
       "\n",
       "       [[ 65, 733, 293],\n",
       "        [980, 761, 680]]])"
      ]
     },
     "execution_count": 5,
     "metadata": {},
     "output_type": "execute_result"
    }
   ],
   "source": [
    "import random\n",
    "w = np.array(random.sample(range(1000), 12))                     # одномерный массив из 12 случайных чисел от 1 до 1000\n",
    "w.reshape((2,2,3))                                               # превратим w в трёхмерную матрицу"
   ]
  },
  {
   "cell_type": "code",
   "execution_count": 6,
   "id": "1899c371",
   "metadata": {},
   "outputs": [],
   "source": [
    "mat = np.eye(3, 4, k=1) + 2 * np.eye(3, 4)"
   ]
  },
  {
   "cell_type": "code",
   "execution_count": 7,
   "id": "96c555e3",
   "metadata": {},
   "outputs": [],
   "source": [
    "mat = mat.flatten()"
   ]
  },
  {
   "cell_type": "code",
   "execution_count": 8,
   "id": "f8e3273c",
   "metadata": {},
   "outputs": [
    {
     "data": {
      "text/plain": [
       "array([2., 1., 0., 0., 0., 2., 1., 0., 0., 0., 2., 1.])"
      ]
     },
     "execution_count": 8,
     "metadata": {},
     "output_type": "execute_result"
    }
   ],
   "source": [
    "mat.T"
   ]
  },
  {
   "cell_type": "markdown",
   "id": "2829941d",
   "metadata": {},
   "source": [
    "* **a.min(axis=None)**, **a.max(axis=None)**, **a.mean(axis=None)**, **a.std(axis=None)** — минимум, максимум, среднее арифметическое и стандартное отклонение вдоль указанной оси. \n",
    "По умолчанию ось не указана и статистика считается по всему массиву. \n",
    "\n",
    "\n",
    "\n",
    "* **a.argmin(axis=None)**, **a.argmax(axis=None)** — индексы минимального и максимального элемента"
   ]
  },
  {
   "cell_type": "code",
   "execution_count": 16,
   "id": "dec09948",
   "metadata": {},
   "outputs": [],
   "source": [
    "w = w.reshape((2, 2, 3))"
   ]
  },
  {
   "cell_type": "code",
   "execution_count": 18,
   "id": "22a2d84f",
   "metadata": {},
   "outputs": [
    {
     "data": {
      "text/plain": [
       "array([[298. , 836. , 226. ],\n",
       "       [775.5, 453. , 481. ]])"
      ]
     },
     "execution_count": 18,
     "metadata": {},
     "output_type": "execute_result"
    }
   ],
   "source": [
    "w.mean(axis=0)                                                   # вдоль столбцов"
   ]
  },
  {
   "cell_type": "code",
   "execution_count": 17,
   "id": "c63302b3",
   "metadata": {},
   "outputs": [
    {
     "data": {
      "text/plain": [
       "array([[551. , 542. , 220.5],\n",
       "       [522.5, 747. , 486.5]])"
      ]
     },
     "execution_count": 17,
     "metadata": {},
     "output_type": "execute_result"
    }
   ],
   "source": [
    "w.mean(axis=1)                                                   # вдоль строк"
   ]
  },
  {
   "cell_type": "markdown",
   "id": "0ef191e1",
   "metadata": {},
   "source": [
    "* **a.sum(axis=None)**, **a.prod(axis=None)** — сумма и произведение всех элементов вдоль указанной оси.\n",
    "\n",
    "\n",
    "* **a.cumsum(axis=None)**, **a.cumprod(axis=None)** — частичные суммы и произведения (для (a_1,⋯,a_n), вектор частичных сумм — это (a_1,a_1+a_2,⋯,a_1+⋯+a_n)(a_1, a_1+a_2, ⋯ , a_1 +...+ a_n)) "
   ]
  },
  {
   "cell_type": "markdown",
   "id": "7f2f3c5e",
   "metadata": {},
   "source": [
    "Пакет **numpy.linalg** содержит большую часть стандартных операций и разложений матриц. Некоторые самые популярные функции вынесены в корень пакета NumPy.\n",
    "\n",
    "\n",
    "* **a.dot(b)** — матричное произведение двух массивов (размерности должны быть согласованы)\n",
    "\n",
    "\n",
    "* **linalg.matrix_power(M, n)** — возведение матрицы M в степень n\n",
    "\n",
    "\n",
    "* **a.T** — транспонирование\n",
    "\n",
    "\n",
    "* **linalg.norm(a, ord=None)** — норма матрицы a, по умолчанию норма Фробениуса для матриц и L2-норма для векторов; подробное описание возможных норм — в справке\n",
    "\n",
    "\n",
    "* **linalg.inv(a)** — матрица, обратная к a (если a необратима, выбрасывается LinAlgError; псевдообратная считается через linalg.pinv(a))"
   ]
  },
  {
   "cell_type": "code",
   "execution_count": 19,
   "id": "a9f79b28",
   "metadata": {},
   "outputs": [],
   "source": [
    "a = w.dot([1,2,3])"
   ]
  },
  {
   "cell_type": "code",
   "execution_count": 20,
   "id": "ee2c62e9",
   "metadata": {},
   "outputs": [
    {
     "data": {
      "text/plain": [
       "array([[2886, 1707],\n",
       "       [2410, 4542]])"
      ]
     },
     "execution_count": 20,
     "metadata": {},
     "output_type": "execute_result"
    }
   ],
   "source": [
    "a"
   ]
  },
  {
   "cell_type": "code",
   "execution_count": 21,
   "id": "34edf919",
   "metadata": {},
   "outputs": [],
   "source": [
    "ainv = np.linalg.inv(a)"
   ]
  },
  {
   "cell_type": "code",
   "execution_count": 22,
   "id": "012ba6f4",
   "metadata": {},
   "outputs": [
    {
     "data": {
      "text/plain": [
       "array([[ 0.00050498, -0.00018979],\n",
       "       [-0.00026795,  0.00032087]])"
      ]
     },
     "execution_count": 22,
     "metadata": {},
     "output_type": "execute_result"
    }
   ],
   "source": [
    "ainv"
   ]
  },
  {
   "cell_type": "code",
   "execution_count": 23,
   "id": "7b7ccaa1",
   "metadata": {},
   "outputs": [
    {
     "data": {
      "text/plain": [
       "array([[1., 0.],\n",
       "       [0., 1.]])"
      ]
     },
     "execution_count": 23,
     "metadata": {},
     "output_type": "execute_result"
    }
   ],
   "source": [
    "a.dot(ainv)"
   ]
  },
  {
   "cell_type": "code",
   "execution_count": 25,
   "id": "d567d533",
   "metadata": {},
   "outputs": [
    {
     "name": "stdout",
     "output_type": "stream",
     "text": [
      "2 3\n",
      "8 7 7 14 4 6\n"
     ]
    },
    {
     "name": "stderr",
     "output_type": "stream",
     "text": [
      "<ipython-input-25-6243b4c1b793>:3: DeprecationWarning: `np.int` is a deprecated alias for the builtin `int`. To silence this warning, use `int` by itself. Doing this will not modify any behavior and is safe. When replacing `np.int`, you may wish to use e.g. `np.int64` or `np.int32` to specify the precision. If you wish to review your current use, check the release note link for additional information.\n",
      "Deprecated in NumPy 1.20; for more details and guidance: https://numpy.org/devdocs/release/1.20.0-notes.html#deprecations\n",
      "  X = np.fromiter(map(int, input().split()), np.int).reshape(x_shape)\n"
     ]
    },
    {
     "name": "stdout",
     "output_type": "stream",
     "text": [
      "4 3\n",
      "5 5 1 5 2 6 3 3 9 1 4 6\n",
      "[[ 82  96 108  78]\n",
      " [ 96 114 108  66]]\n"
     ]
    },
    {
     "name": "stderr",
     "output_type": "stream",
     "text": [
      "<ipython-input-25-6243b4c1b793>:6: DeprecationWarning: `np.int` is a deprecated alias for the builtin `int`. To silence this warning, use `int` by itself. Doing this will not modify any behavior and is safe. When replacing `np.int`, you may wish to use e.g. `np.int64` or `np.int32` to specify the precision. If you wish to review your current use, check the release note link for additional information.\n",
      "Deprecated in NumPy 1.20; for more details and guidance: https://numpy.org/devdocs/release/1.20.0-notes.html#deprecations\n",
      "  Y = np.fromiter(map(int, input().split()), np.int).reshape(y_shape)\n"
     ]
    }
   ],
   "source": [
    "# Задача: перемножьте две матрицы\n",
    "x_shape = tuple(map(int, input().split()))\n",
    "X = np.fromiter(map(int, input().split()), np.int).reshape(x_shape)\n",
    "\n",
    "y_shape = tuple(map(int, input().split()))\n",
    "Y = np.fromiter(map(int, input().split()), np.int).reshape(y_shape)\n",
    "\n",
    "try:\n",
    "    print(X.dot(Y.T))\n",
    "except:\n",
    "    print('matrix shapes do not match')"
   ]
  },
  {
   "cell_type": "markdown",
   "id": "87890e7e",
   "metadata": {},
   "source": [
    "### Считывание данных из файла"
   ]
  },
  {
   "cell_type": "code",
   "execution_count": null,
   "id": "038fd969",
   "metadata": {},
   "outputs": [],
   "source": [
    "# sbux = np.loadtxt(\"sbux.csv\", usecols=(0,1,4), skiprows=1, delimiter=\",\", \n",
    "#                       dtype={'names': ('date', 'open', 'close'),\n",
    "#                              'formats': ('datetime64[D]', 'f4', 'f4')})"
   ]
  },
  {
   "cell_type": "markdown",
   "id": "f0e8f236",
   "metadata": {},
   "source": [
    "* **\"sbux.csv\"** — имя файла (или сюда же можно передать объект файла, такой пример вы увидите в следующей задаче урока), из которого считываются данные.\n",
    "\n",
    "\n",
    "* **usecols** — список колонок, которые нужно использовать. Если параметр не указан, считываются все колонки.\n",
    "\n",
    "\n",
    "* **skiprows** — количество рядов в начале файла, которые нужно пропустить. В нашем случае пропущен ряд заголовков. По умолчанию (если значение параметра не указано явно) skiprows = 0.\n",
    "\n",
    "\n",
    "* **delimiter** — разделитель столбцов в одной строке, в csv-файлах это запятая, по умолчанию разделителем является любой пробел (в том числе — знак табуляции).\n",
    "\n",
    "\n",
    "* **dtype** — словарь из названий колонок (переменных) и типов хранящихся в них значений. NumPy использует свою собственную систему типов, и названия именно этих типов нужно указать. По умолчанию функция попытается самостоятельно угадать, какому типу принадлежат подаваемые на вход значения."
   ]
  },
  {
   "cell_type": "code",
   "execution_count": 26,
   "id": "6f5dff47",
   "metadata": {},
   "outputs": [
    {
     "name": "stdout",
     "output_type": "stream",
     "text": [
      "https://stepic.org/media/attachments/lesson/16462/boston_houses.csv\n"
     ]
    },
    {
     "data": {
      "text/plain": [
       "array([22.53280632,  3.61352356, 11.36363636,  0.06916996,  0.55469506,\n",
       "        6.28463439,  3.79504269])"
      ]
     },
     "execution_count": 26,
     "metadata": {},
     "output_type": "execute_result"
    }
   ],
   "source": [
    "from urllib.request import urlopen\n",
    "\n",
    "filename = input()\n",
    "f = urlopen(filename)\n",
    "data = np.loadtxt(f, skiprows=1, delimiter=',')\n",
    "data.mean(axis=0)"
   ]
  },
  {
   "cell_type": "code",
   "execution_count": 42,
   "id": "d4d69b5b",
   "metadata": {},
   "outputs": [],
   "source": [
    "X = np.matrix([[1, 60], [1, 50], [1, 75]])"
   ]
  },
  {
   "cell_type": "code",
   "execution_count": 43,
   "id": "274c9896",
   "metadata": {},
   "outputs": [
    {
     "data": {
      "text/plain": [
       "matrix([[ 1, 60],\n",
       "        [ 1, 50],\n",
       "        [ 1, 75]])"
      ]
     },
     "execution_count": 43,
     "metadata": {},
     "output_type": "execute_result"
    }
   ],
   "source": [
    "X"
   ]
  },
  {
   "cell_type": "code",
   "execution_count": 46,
   "id": "099c0b12",
   "metadata": {},
   "outputs": [],
   "source": [
    "Y = np.matrix([[10], [7], [12]])"
   ]
  },
  {
   "cell_type": "code",
   "execution_count": 47,
   "id": "dd2d8efd",
   "metadata": {},
   "outputs": [
    {
     "data": {
      "text/plain": [
       "matrix([[10],\n",
       "        [ 7],\n",
       "        [12]])"
      ]
     },
     "execution_count": 47,
     "metadata": {},
     "output_type": "execute_result"
    }
   ],
   "source": [
    "Y"
   ]
  },
  {
   "cell_type": "code",
   "execution_count": 51,
   "id": "5c26adad",
   "metadata": {},
   "outputs": [],
   "source": [
    "t = (X.T).dot(X)"
   ]
  },
  {
   "cell_type": "code",
   "execution_count": 53,
   "id": "c44778eb",
   "metadata": {},
   "outputs": [
    {
     "data": {
      "text/plain": [
       "matrix([[-2.34210526],\n",
       "        [ 0.19473684]])"
      ]
     },
     "execution_count": 53,
     "metadata": {},
     "output_type": "execute_result"
    }
   ],
   "source": [
    "np.linalg.inv(t).dot(X.T).dot(Y)"
   ]
  },
  {
   "cell_type": "code",
   "execution_count": 54,
   "id": "eeb42d4e",
   "metadata": {},
   "outputs": [],
   "source": [
    "import urllib\n",
    "from urllib import request\n",
    "import numpy as np\n",
    "\n",
    "fname = 'https://stepic.org/media/attachments/lesson/16462/boston_houses.csv'  # read file name from stdin\n",
    "f = urllib.request.urlopen(fname)                                              # open file from URL\n",
    "data = np.loadtxt(f, delimiter=',', skiprows=1)                                # load data to work with"
   ]
  },
  {
   "cell_type": "code",
   "execution_count": 79,
   "id": "c311ab31",
   "metadata": {},
   "outputs": [
    {
     "data": {
      "text/plain": [
       "array([[2.4000e+01, 6.3200e-03, 1.8000e+01, ..., 5.3800e-01, 6.5750e+00,\n",
       "        4.0900e+00],\n",
       "       [2.1600e+01, 2.7310e-02, 0.0000e+00, ..., 4.6900e-01, 6.4210e+00,\n",
       "        4.9671e+00],\n",
       "       [3.4700e+01, 2.7290e-02, 0.0000e+00, ..., 4.6900e-01, 7.1850e+00,\n",
       "        4.9671e+00],\n",
       "       ...,\n",
       "       [2.3900e+01, 6.0760e-02, 0.0000e+00, ..., 5.7300e-01, 6.9760e+00,\n",
       "        2.1675e+00],\n",
       "       [2.2000e+01, 1.0959e-01, 0.0000e+00, ..., 5.7300e-01, 6.7940e+00,\n",
       "        2.3889e+00],\n",
       "       [1.1900e+01, 4.7410e-02, 0.0000e+00, ..., 5.7300e-01, 6.0300e+00,\n",
       "        2.5050e+00]])"
      ]
     },
     "execution_count": 79,
     "metadata": {},
     "output_type": "execute_result"
    }
   ],
   "source": [
    "data"
   ]
  },
  {
   "cell_type": "code",
   "execution_count": 80,
   "id": "ddec6389",
   "metadata": {},
   "outputs": [],
   "source": [
    "y = [i[0] for i in data]"
   ]
  },
  {
   "cell_type": "code",
   "execution_count": 81,
   "id": "d15524bf",
   "metadata": {},
   "outputs": [],
   "source": [
    "y = np.matrix(y)"
   ]
  },
  {
   "cell_type": "code",
   "execution_count": 109,
   "id": "48cc25f1",
   "metadata": {},
   "outputs": [
    {
     "ename": "ValueError",
     "evalue": "cannot reshape array of size 506 into shape (1,1)",
     "output_type": "error",
     "traceback": [
      "\u001b[1;31m---------------------------------------------------------------------------\u001b[0m",
      "\u001b[1;31mValueError\u001b[0m                                Traceback (most recent call last)",
      "\u001b[1;32m<ipython-input-109-200cabe2fb66>\u001b[0m in \u001b[0;36m<module>\u001b[1;34m\u001b[0m\n\u001b[1;32m----> 1\u001b[1;33m \u001b[0my\u001b[0m \u001b[1;33m=\u001b[0m \u001b[0my\u001b[0m\u001b[1;33m.\u001b[0m\u001b[0mreshape\u001b[0m\u001b[1;33m(\u001b[0m\u001b[0my\u001b[0m\u001b[1;33m.\u001b[0m\u001b[0mshape\u001b[0m\u001b[1;33m[\u001b[0m\u001b[1;36m1\u001b[0m\u001b[1;33m]\u001b[0m\u001b[1;33m,\u001b[0m \u001b[1;36m1\u001b[0m\u001b[1;33m)\u001b[0m\u001b[1;33m\u001b[0m\u001b[1;33m\u001b[0m\u001b[0m\n\u001b[0m",
      "\u001b[1;31mValueError\u001b[0m: cannot reshape array of size 506 into shape (1,1)"
     ]
    }
   ],
   "source": [
    "y = y.reshape(y.shape[1], 1)"
   ]
  },
  {
   "cell_type": "code",
   "execution_count": 84,
   "id": "3e7cea46",
   "metadata": {
    "scrolled": false
   },
   "outputs": [],
   "source": [
    "X = [i[1:] for i in data]"
   ]
  },
  {
   "cell_type": "code",
   "execution_count": 88,
   "id": "b8eb3e5a",
   "metadata": {},
   "outputs": [],
   "source": [
    "X = np.hstack((np.ones_like(y), X))"
   ]
  },
  {
   "cell_type": "code",
   "execution_count": 89,
   "id": "8eb6271c",
   "metadata": {},
   "outputs": [
    {
     "data": {
      "text/plain": [
       "matrix([[1.0000e+00, 6.3200e-03, 1.8000e+01, ..., 5.3800e-01, 6.5750e+00,\n",
       "         4.0900e+00],\n",
       "        [1.0000e+00, 2.7310e-02, 0.0000e+00, ..., 4.6900e-01, 6.4210e+00,\n",
       "         4.9671e+00],\n",
       "        [1.0000e+00, 2.7290e-02, 0.0000e+00, ..., 4.6900e-01, 7.1850e+00,\n",
       "         4.9671e+00],\n",
       "        ...,\n",
       "        [1.0000e+00, 6.0760e-02, 0.0000e+00, ..., 5.7300e-01, 6.9760e+00,\n",
       "         2.1675e+00],\n",
       "        [1.0000e+00, 1.0959e-01, 0.0000e+00, ..., 5.7300e-01, 6.7940e+00,\n",
       "         2.3889e+00],\n",
       "        [1.0000e+00, 4.7410e-02, 0.0000e+00, ..., 5.7300e-01, 6.0300e+00,\n",
       "         2.5050e+00]])"
      ]
     },
     "execution_count": 89,
     "metadata": {},
     "output_type": "execute_result"
    }
   ],
   "source": [
    "X"
   ]
  },
  {
   "cell_type": "code",
   "execution_count": 90,
   "id": "612edc74",
   "metadata": {},
   "outputs": [],
   "source": [
    "t = (X.T).dot(X)"
   ]
  },
  {
   "cell_type": "code",
   "execution_count": 103,
   "id": "3c5833e2",
   "metadata": {},
   "outputs": [],
   "source": [
    "ans = np.linalg.inv(t).dot(X.T).dot(y)"
   ]
  },
  {
   "cell_type": "code",
   "execution_count": 110,
   "id": "f8eb4736",
   "metadata": {},
   "outputs": [
    {
     "ename": "ValueError",
     "evalue": "cannot reshape array of size 7 into shape (1,1)",
     "output_type": "error",
     "traceback": [
      "\u001b[1;31m---------------------------------------------------------------------------\u001b[0m",
      "\u001b[1;31mValueError\u001b[0m                                Traceback (most recent call last)",
      "\u001b[1;32m<ipython-input-110-67877863ec87>\u001b[0m in \u001b[0;36m<module>\u001b[1;34m\u001b[0m\n\u001b[1;32m----> 1\u001b[1;33m \u001b[0mans\u001b[0m \u001b[1;33m=\u001b[0m \u001b[0mnp\u001b[0m\u001b[1;33m.\u001b[0m\u001b[0marray\u001b[0m\u001b[1;33m(\u001b[0m\u001b[0mans\u001b[0m\u001b[1;33m.\u001b[0m\u001b[0mreshape\u001b[0m\u001b[1;33m(\u001b[0m\u001b[1;36m1\u001b[0m\u001b[1;33m,\u001b[0m \u001b[0mlen\u001b[0m\u001b[1;33m(\u001b[0m\u001b[0mans\u001b[0m\u001b[1;33m)\u001b[0m\u001b[1;33m)\u001b[0m\u001b[1;33m)\u001b[0m\u001b[1;33m\u001b[0m\u001b[1;33m\u001b[0m\u001b[0m\n\u001b[0m",
      "\u001b[1;31mValueError\u001b[0m: cannot reshape array of size 7 into shape (1,1)"
     ]
    }
   ],
   "source": [
    "ans = np.array(ans.reshape(1, ans.shape[0]))"
   ]
  },
  {
   "cell_type": "code",
   "execution_count": 106,
   "id": "f6db5d10",
   "metadata": {},
   "outputs": [
    {
     "data": {
      "text/plain": [
       "'-3.6558042850732786 -0.2163955023691257 0.07373059817547858 4.4124505769127955 -25.468448784090903 7.143201550746698 -1.3010876776485503'"
      ]
     },
     "execution_count": 106,
     "metadata": {},
     "output_type": "execute_result"
    }
   ],
   "source": [
    "\" \".join(map(str, ans.reshape(1, 7)[0]))"
   ]
  },
  {
   "cell_type": "code",
   "execution_count": 112,
   "id": "f44424bd",
   "metadata": {},
   "outputs": [
    {
     "data": {
      "text/plain": [
       "(1, 7)"
      ]
     },
     "execution_count": 112,
     "metadata": {},
     "output_type": "execute_result"
    }
   ],
   "source": [
    "ans.shape"
   ]
  },
  {
   "cell_type": "code",
   "execution_count": 100,
   "id": "6779c974",
   "metadata": {},
   "outputs": [],
   "source": [
    "ans = np.array(ans.reshape(1, 7))"
   ]
  },
  {
   "cell_type": "code",
   "execution_count": 101,
   "id": "de40fa2d",
   "metadata": {},
   "outputs": [
    {
     "data": {
      "text/plain": [
       "array([[ -3.65580429,  -0.2163955 ,   0.0737306 ,   4.41245058,\n",
       "        -25.46844878,   7.14320155,  -1.30108768]])"
      ]
     },
     "execution_count": 101,
     "metadata": {},
     "output_type": "execute_result"
    }
   ],
   "source": [
    "ans"
   ]
  },
  {
   "cell_type": "code",
   "execution_count": null,
   "id": "5b32b71f",
   "metadata": {},
   "outputs": [],
   "source": [
    "# ПОЛНОЕ РЕШЕНИЕ ЗАДАЧИ\n",
    "\n",
    "# import urllib\n",
    "# from urllib import request\n",
    "# import numpy as np\n",
    "\n",
    "# fname = input()  # read file name from stdin\n",
    "# f = urllib.request.urlopen(fname)  # open file from URL\n",
    "# data = np.loadtxt(f, delimiter=',', skiprows=1)  # load data to work with\n",
    "\n",
    "# # here goes your solution\n",
    "# y = [i[0] for i in data]\n",
    "# y = np.matrix(y)\n",
    "# y = y.reshape((y.shape[1], 1))\n",
    "\n",
    "# X = [i[1:] for i in data]\n",
    "# X = np.hstack((np.ones_like(y), X))\n",
    "\n",
    "# t = (X.T).dot(X)\n",
    "# ans = np.linalg.inv(t).dot(X.T).dot(y)\n",
    "\n",
    "# ans = np.array(ans.reshape(1, ans.shape[0]))\n",
    "# print(\" \".join(map(str, ans.reshape(1, ans.shape[1])[0])))"
   ]
  },
  {
   "cell_type": "code",
   "execution_count": null,
   "id": "0087082a",
   "metadata": {},
   "outputs": [],
   "source": []
  },
  {
   "cell_type": "code",
   "execution_count": null,
   "id": "9ddf84cf",
   "metadata": {},
   "outputs": [],
   "source": []
  },
  {
   "cell_type": "code",
   "execution_count": null,
   "id": "157ef4c5",
   "metadata": {},
   "outputs": [],
   "source": []
  },
  {
   "cell_type": "code",
   "execution_count": null,
   "id": "cae822fd",
   "metadata": {},
   "outputs": [],
   "source": []
  },
  {
   "cell_type": "code",
   "execution_count": null,
   "id": "75bfc708",
   "metadata": {},
   "outputs": [],
   "source": []
  },
  {
   "cell_type": "code",
   "execution_count": null,
   "id": "785d3b93",
   "metadata": {},
   "outputs": [],
   "source": []
  },
  {
   "cell_type": "code",
   "execution_count": null,
   "id": "7e5e6c83",
   "metadata": {},
   "outputs": [],
   "source": []
  },
  {
   "cell_type": "code",
   "execution_count": null,
   "id": "50e6eb80",
   "metadata": {},
   "outputs": [],
   "source": []
  },
  {
   "cell_type": "code",
   "execution_count": null,
   "id": "e7c1d81f",
   "metadata": {},
   "outputs": [],
   "source": []
  },
  {
   "cell_type": "code",
   "execution_count": null,
   "id": "c095f37f",
   "metadata": {},
   "outputs": [],
   "source": []
  },
  {
   "cell_type": "code",
   "execution_count": null,
   "id": "fd72525d",
   "metadata": {},
   "outputs": [],
   "source": []
  },
  {
   "cell_type": "code",
   "execution_count": null,
   "id": "9f2c2fb1",
   "metadata": {},
   "outputs": [],
   "source": []
  },
  {
   "cell_type": "code",
   "execution_count": null,
   "id": "8504963d",
   "metadata": {},
   "outputs": [],
   "source": []
  },
  {
   "cell_type": "code",
   "execution_count": null,
   "id": "453cbd56",
   "metadata": {},
   "outputs": [],
   "source": []
  },
  {
   "cell_type": "code",
   "execution_count": null,
   "id": "e46451ad",
   "metadata": {},
   "outputs": [],
   "source": []
  },
  {
   "cell_type": "code",
   "execution_count": null,
   "id": "41f11e87",
   "metadata": {},
   "outputs": [],
   "source": []
  },
  {
   "cell_type": "code",
   "execution_count": null,
   "id": "21208f4f",
   "metadata": {},
   "outputs": [],
   "source": []
  },
  {
   "cell_type": "code",
   "execution_count": null,
   "id": "b3290bc6",
   "metadata": {},
   "outputs": [],
   "source": []
  },
  {
   "cell_type": "code",
   "execution_count": null,
   "id": "c9afeb8c",
   "metadata": {},
   "outputs": [],
   "source": []
  },
  {
   "cell_type": "code",
   "execution_count": null,
   "id": "4fda7b70",
   "metadata": {},
   "outputs": [],
   "source": []
  },
  {
   "cell_type": "code",
   "execution_count": null,
   "id": "04b7a509",
   "metadata": {},
   "outputs": [],
   "source": []
  },
  {
   "cell_type": "code",
   "execution_count": null,
   "id": "0a50449e",
   "metadata": {},
   "outputs": [],
   "source": []
  }
 ],
 "metadata": {
  "kernelspec": {
   "display_name": "Python 3",
   "language": "python",
   "name": "python3"
  },
  "language_info": {
   "codemirror_mode": {
    "name": "ipython",
    "version": 3
   },
   "file_extension": ".py",
   "mimetype": "text/x-python",
   "name": "python",
   "nbconvert_exporter": "python",
   "pygments_lexer": "ipython3",
   "version": "3.8.8"
  }
 },
 "nbformat": 4,
 "nbformat_minor": 5
}
