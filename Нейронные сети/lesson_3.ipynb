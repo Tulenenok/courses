{
 "cells": [
  {
   "cell_type": "code",
   "execution_count": 1,
   "id": "3f4b349d",
   "metadata": {},
   "outputs": [],
   "source": [
    "import numpy as np\n",
    "inp = np.matrix([[0.0], [1.0], [1.0]])"
   ]
  },
  {
   "cell_type": "code",
   "execution_count": 2,
   "id": "6b035b36",
   "metadata": {},
   "outputs": [
    {
     "data": {
      "text/plain": [
       "matrix([[0.],\n",
       "        [1.],\n",
       "        [1.]])"
      ]
     },
     "execution_count": 2,
     "metadata": {},
     "output_type": "execute_result"
    }
   ],
   "source": [
    "inp"
   ]
  },
  {
   "cell_type": "code",
   "execution_count": 3,
   "id": "04337ccd",
   "metadata": {},
   "outputs": [],
   "source": [
    "w1 = np.matrix([[0.7, 0.2, 0.7], [0.8, 0.3, 0.6]], dtype=float)"
   ]
  },
  {
   "cell_type": "code",
   "execution_count": 4,
   "id": "3dd7228d",
   "metadata": {},
   "outputs": [],
   "source": [
    "w2 = np.matrix([[0.2, 0.4]], dtype=float)"
   ]
  },
  {
   "cell_type": "code",
   "execution_count": 5,
   "id": "37212bd8",
   "metadata": {},
   "outputs": [],
   "source": [
    "y = 1"
   ]
  },
  {
   "cell_type": "code",
   "execution_count": 6,
   "id": "8c30c968",
   "metadata": {},
   "outputs": [],
   "source": [
    "import math\n",
    "\n",
    "def sigmoid_x(x):\n",
    "    return 1 / (1 + math.pow(math.e, -x))\n",
    "\n",
    "def sigmoid_mat(mat):\n",
    "    for i in range(len(mat)):\n",
    "        for j in range(len(mat[i])):\n",
    "            mat[i][j] = sigmoid_x(mat[i][j])\n",
    "    return mat\n",
    "                \n",
    "def sigmoid_prime_x(x):\n",
    "    return sigmoid_x(x) * (1 - sigmoid_x(x))\n",
    "\n",
    "def sigmoid_prime_mat(mat):\n",
    "    for i in range(len(mat)):\n",
    "        for j in range(len(mat[i])):\n",
    "            mat[i][j] = sigmoid_prime_x(mat[i][j])\n",
    "    return mat"
   ]
  },
  {
   "cell_type": "code",
   "execution_count": 7,
   "id": "4b144825",
   "metadata": {},
   "outputs": [],
   "source": [
    "def max_x(x):\n",
    "    return max(x, 0)\n",
    "\n",
    "def max_mat(mat):\n",
    "    for i in range(len(mat)):\n",
    "        for j in range(len(mat[i])):\n",
    "            mat[i][j] = max_x(mat[i][j])\n",
    "    return mat\n",
    "                \n",
    "def max_prime_x(x):\n",
    "    return 1 if x > 0 else 0\n",
    "\n",
    "def max_prime_mat(mat):\n",
    "    for i in range(len(mat)):\n",
    "        for j in range(len(mat[i])):\n",
    "            mat[i][j] = max_prime_x(mat[i][j])\n",
    "    return mat"
   ]
  },
  {
   "cell_type": "code",
   "execution_count": 8,
   "id": "4b605237",
   "metadata": {},
   "outputs": [],
   "source": [
    "def sigmoid_neiron(inp, w):\n",
    "    z = w * inp\n",
    "    \n",
    "    a = z.copy()\n",
    "    a = sigmoid_mat(a)\n",
    "            \n",
    "    return z, a\n",
    "\n",
    "def max_neiron(inp, w):\n",
    "    z = w * inp\n",
    "    \n",
    "    a = z.copy()\n",
    "    a[0][0] = max_x(a[0][0])\n",
    "    a[1][0] = sigmoid_x(a[1][0])\n",
    "            \n",
    "    return z, a"
   ]
  },
  {
   "cell_type": "code",
   "execution_count": 9,
   "id": "a9c309d9",
   "metadata": {},
   "outputs": [],
   "source": [
    "def from_input_to_output(inp, w1, w2):\n",
    "    z1, a1 = max_neiron(inp, w1)\n",
    "    z2, a2 = sigmoid_neiron(a1, w2)\n",
    "    return z1, a1, z2, a2"
   ]
  },
  {
   "cell_type": "code",
   "execution_count": 10,
   "id": "ae045c32",
   "metadata": {},
   "outputs": [],
   "source": [
    "z1, a1, z2, a2 = from_input_to_output(inp, w1, w2)"
   ]
  },
  {
   "cell_type": "code",
   "execution_count": 11,
   "id": "656c17fe",
   "metadata": {},
   "outputs": [
    {
     "data": {
      "text/plain": [
       "matrix([[0.9      ],\n",
       "        [0.7109495]])"
      ]
     },
     "execution_count": 11,
     "metadata": {},
     "output_type": "execute_result"
    }
   ],
   "source": [
    "a1"
   ]
  },
  {
   "cell_type": "code",
   "execution_count": 31,
   "id": "4ba12fe8",
   "metadata": {},
   "outputs": [],
   "source": [
    "def delta_out(y_hat, y, z):\n",
    "    return (y_hat - y) * sigmoid_prime_mat(z)\n",
    "\n",
    "def delta(w, delta_before, z):\n",
    "    return (w.T * delta_before) * sigmoid_prime_mat(z)"
   ]
  },
  {
   "cell_type": "code",
   "execution_count": 13,
   "id": "432cd3c7",
   "metadata": {},
   "outputs": [],
   "source": [
    "delta_output = delta_out(a2[0][0], y, z2) "
   ]
  },
  {
   "cell_type": "code",
   "execution_count": 14,
   "id": "6ab0439d",
   "metadata": {},
   "outputs": [
    {
     "data": {
      "text/plain": [
       "matrix([[-0.09146642]])"
      ]
     },
     "execution_count": 14,
     "metadata": {},
     "output_type": "execute_result"
    }
   ],
   "source": [
    "delta_output"
   ]
  },
  {
   "cell_type": "code",
   "execution_count": 33,
   "id": "3d23e186",
   "metadata": {},
   "outputs": [
    {
     "ename": "TypeError",
     "evalue": "only size-1 arrays can be converted to Python scalars",
     "output_type": "error",
     "traceback": [
      "\u001b[1;31m---------------------------------------------------------------------------\u001b[0m",
      "\u001b[1;31mTypeError\u001b[0m                                 Traceback (most recent call last)",
      "\u001b[1;32m<ipython-input-33-af37c5a11eba>\u001b[0m in \u001b[0;36m<module>\u001b[1;34m\u001b[0m\n\u001b[1;32m----> 1\u001b[1;33m \u001b[0mdelta_hidden\u001b[0m \u001b[1;33m=\u001b[0m \u001b[0mdelta\u001b[0m\u001b[1;33m(\u001b[0m\u001b[0mw2\u001b[0m\u001b[1;33m,\u001b[0m \u001b[0mdelta_output\u001b[0m\u001b[1;33m,\u001b[0m \u001b[0mz1\u001b[0m\u001b[1;33m.\u001b[0m\u001b[0mT\u001b[0m\u001b[1;33m)\u001b[0m\u001b[1;33m\u001b[0m\u001b[1;33m\u001b[0m\u001b[0m\n\u001b[0m",
      "\u001b[1;32m<ipython-input-31-47033f5b0948>\u001b[0m in \u001b[0;36mdelta\u001b[1;34m(w, delta_before, z)\u001b[0m\n\u001b[0;32m      3\u001b[0m \u001b[1;33m\u001b[0m\u001b[0m\n\u001b[0;32m      4\u001b[0m \u001b[1;32mdef\u001b[0m \u001b[0mdelta\u001b[0m\u001b[1;33m(\u001b[0m\u001b[0mw\u001b[0m\u001b[1;33m,\u001b[0m \u001b[0mdelta_before\u001b[0m\u001b[1;33m,\u001b[0m \u001b[0mz\u001b[0m\u001b[1;33m)\u001b[0m\u001b[1;33m:\u001b[0m\u001b[1;33m\u001b[0m\u001b[1;33m\u001b[0m\u001b[0m\n\u001b[1;32m----> 5\u001b[1;33m     \u001b[1;32mreturn\u001b[0m \u001b[1;33m(\u001b[0m\u001b[0mw\u001b[0m\u001b[1;33m.\u001b[0m\u001b[0mT\u001b[0m \u001b[1;33m*\u001b[0m \u001b[0mdelta_before\u001b[0m\u001b[1;33m)\u001b[0m \u001b[1;33m*\u001b[0m \u001b[0msigmoid_prime_mat\u001b[0m\u001b[1;33m(\u001b[0m\u001b[0mz\u001b[0m\u001b[1;33m)\u001b[0m\u001b[1;33m\u001b[0m\u001b[1;33m\u001b[0m\u001b[0m\n\u001b[0m",
      "\u001b[1;32m<ipython-input-6-7b2ee00feb7c>\u001b[0m in \u001b[0;36msigmoid_prime_mat\u001b[1;34m(mat)\u001b[0m\n\u001b[0;32m     16\u001b[0m     \u001b[1;32mfor\u001b[0m \u001b[0mi\u001b[0m \u001b[1;32min\u001b[0m \u001b[0mrange\u001b[0m\u001b[1;33m(\u001b[0m\u001b[0mlen\u001b[0m\u001b[1;33m(\u001b[0m\u001b[0mmat\u001b[0m\u001b[1;33m)\u001b[0m\u001b[1;33m)\u001b[0m\u001b[1;33m:\u001b[0m\u001b[1;33m\u001b[0m\u001b[1;33m\u001b[0m\u001b[0m\n\u001b[0;32m     17\u001b[0m         \u001b[1;32mfor\u001b[0m \u001b[0mj\u001b[0m \u001b[1;32min\u001b[0m \u001b[0mrange\u001b[0m\u001b[1;33m(\u001b[0m\u001b[0mlen\u001b[0m\u001b[1;33m(\u001b[0m\u001b[0mmat\u001b[0m\u001b[1;33m[\u001b[0m\u001b[0mi\u001b[0m\u001b[1;33m]\u001b[0m\u001b[1;33m)\u001b[0m\u001b[1;33m)\u001b[0m\u001b[1;33m:\u001b[0m\u001b[1;33m\u001b[0m\u001b[1;33m\u001b[0m\u001b[0m\n\u001b[1;32m---> 18\u001b[1;33m             \u001b[0mmat\u001b[0m\u001b[1;33m[\u001b[0m\u001b[0mi\u001b[0m\u001b[1;33m]\u001b[0m\u001b[1;33m[\u001b[0m\u001b[0mj\u001b[0m\u001b[1;33m]\u001b[0m \u001b[1;33m=\u001b[0m \u001b[0msigmoid_prime_x\u001b[0m\u001b[1;33m(\u001b[0m\u001b[0mmat\u001b[0m\u001b[1;33m[\u001b[0m\u001b[0mi\u001b[0m\u001b[1;33m]\u001b[0m\u001b[1;33m[\u001b[0m\u001b[0mj\u001b[0m\u001b[1;33m]\u001b[0m\u001b[1;33m)\u001b[0m\u001b[1;33m\u001b[0m\u001b[1;33m\u001b[0m\u001b[0m\n\u001b[0m\u001b[0;32m     19\u001b[0m     \u001b[1;32mreturn\u001b[0m \u001b[0mmat\u001b[0m\u001b[1;33m\u001b[0m\u001b[1;33m\u001b[0m\u001b[0m\n",
      "\u001b[1;32m<ipython-input-6-7b2ee00feb7c>\u001b[0m in \u001b[0;36msigmoid_prime_x\u001b[1;34m(x)\u001b[0m\n\u001b[0;32m     11\u001b[0m \u001b[1;33m\u001b[0m\u001b[0m\n\u001b[0;32m     12\u001b[0m \u001b[1;32mdef\u001b[0m \u001b[0msigmoid_prime_x\u001b[0m\u001b[1;33m(\u001b[0m\u001b[0mx\u001b[0m\u001b[1;33m)\u001b[0m\u001b[1;33m:\u001b[0m\u001b[1;33m\u001b[0m\u001b[1;33m\u001b[0m\u001b[0m\n\u001b[1;32m---> 13\u001b[1;33m     \u001b[1;32mreturn\u001b[0m \u001b[0msigmoid_x\u001b[0m\u001b[1;33m(\u001b[0m\u001b[0mx\u001b[0m\u001b[1;33m)\u001b[0m \u001b[1;33m*\u001b[0m \u001b[1;33m(\u001b[0m\u001b[1;36m1\u001b[0m \u001b[1;33m-\u001b[0m \u001b[0msigmoid_x\u001b[0m\u001b[1;33m(\u001b[0m\u001b[0mx\u001b[0m\u001b[1;33m)\u001b[0m\u001b[1;33m)\u001b[0m\u001b[1;33m\u001b[0m\u001b[1;33m\u001b[0m\u001b[0m\n\u001b[0m\u001b[0;32m     14\u001b[0m \u001b[1;33m\u001b[0m\u001b[0m\n\u001b[0;32m     15\u001b[0m \u001b[1;32mdef\u001b[0m \u001b[0msigmoid_prime_mat\u001b[0m\u001b[1;33m(\u001b[0m\u001b[0mmat\u001b[0m\u001b[1;33m)\u001b[0m\u001b[1;33m:\u001b[0m\u001b[1;33m\u001b[0m\u001b[1;33m\u001b[0m\u001b[0m\n",
      "\u001b[1;32m<ipython-input-6-7b2ee00feb7c>\u001b[0m in \u001b[0;36msigmoid_x\u001b[1;34m(x)\u001b[0m\n\u001b[0;32m      2\u001b[0m \u001b[1;33m\u001b[0m\u001b[0m\n\u001b[0;32m      3\u001b[0m \u001b[1;32mdef\u001b[0m \u001b[0msigmoid_x\u001b[0m\u001b[1;33m(\u001b[0m\u001b[0mx\u001b[0m\u001b[1;33m)\u001b[0m\u001b[1;33m:\u001b[0m\u001b[1;33m\u001b[0m\u001b[1;33m\u001b[0m\u001b[0m\n\u001b[1;32m----> 4\u001b[1;33m     \u001b[1;32mreturn\u001b[0m \u001b[1;36m1\u001b[0m \u001b[1;33m/\u001b[0m \u001b[1;33m(\u001b[0m\u001b[1;36m1\u001b[0m \u001b[1;33m+\u001b[0m \u001b[0mmath\u001b[0m\u001b[1;33m.\u001b[0m\u001b[0mpow\u001b[0m\u001b[1;33m(\u001b[0m\u001b[0mmath\u001b[0m\u001b[1;33m.\u001b[0m\u001b[0me\u001b[0m\u001b[1;33m,\u001b[0m \u001b[1;33m-\u001b[0m\u001b[0mx\u001b[0m\u001b[1;33m)\u001b[0m\u001b[1;33m)\u001b[0m\u001b[1;33m\u001b[0m\u001b[1;33m\u001b[0m\u001b[0m\n\u001b[0m\u001b[0;32m      5\u001b[0m \u001b[1;33m\u001b[0m\u001b[0m\n\u001b[0;32m      6\u001b[0m \u001b[1;32mdef\u001b[0m \u001b[0msigmoid_mat\u001b[0m\u001b[1;33m(\u001b[0m\u001b[0mmat\u001b[0m\u001b[1;33m)\u001b[0m\u001b[1;33m:\u001b[0m\u001b[1;33m\u001b[0m\u001b[1;33m\u001b[0m\u001b[0m\n",
      "\u001b[1;31mTypeError\u001b[0m: only size-1 arrays can be converted to Python scalars"
     ]
    }
   ],
   "source": [
    "delta_hidden = delta(w2, delta_output, z1.T)"
   ]
  },
  {
   "cell_type": "code",
   "execution_count": 16,
   "id": "26885230",
   "metadata": {},
   "outputs": [
    {
     "data": {
      "text/plain": [
       "matrix([[-0.0045097],\n",
       "        [-0.0090194]])"
      ]
     },
     "execution_count": 16,
     "metadata": {},
     "output_type": "execute_result"
    }
   ],
   "source": [
    "delta_hidden"
   ]
  },
  {
   "cell_type": "code",
   "execution_count": 17,
   "id": "f6c7b543",
   "metadata": {},
   "outputs": [
    {
     "data": {
      "text/plain": [
       "matrix([[0.7, 0.2, 0.7],\n",
       "        [0.8, 0.3, 0.6]])"
      ]
     },
     "execution_count": 17,
     "metadata": {},
     "output_type": "execute_result"
    }
   ],
   "source": [
    "w1"
   ]
  },
  {
   "cell_type": "code",
   "execution_count": 18,
   "id": "2716fc1b",
   "metadata": {},
   "outputs": [],
   "source": [
    "w213 = inp[2][0] * delta_hidden[0][0]"
   ]
  },
  {
   "cell_type": "code",
   "execution_count": 19,
   "id": "467bd18f",
   "metadata": {},
   "outputs": [],
   "source": [
    "w223 = inp[2][0] * delta_hidden[1][0]"
   ]
  },
  {
   "cell_type": "code",
   "execution_count": 20,
   "id": "3761fa47",
   "metadata": {},
   "outputs": [
    {
     "data": {
      "text/plain": [
       "matrix([[-0.0045097]])"
      ]
     },
     "execution_count": 20,
     "metadata": {},
     "output_type": "execute_result"
    }
   ],
   "source": [
    "w213[0][0]"
   ]
  },
  {
   "cell_type": "code",
   "execution_count": 21,
   "id": "0f1dddb1",
   "metadata": {},
   "outputs": [
    {
     "data": {
      "text/plain": [
       "matrix([[-0.0090194]])"
      ]
     },
     "execution_count": 21,
     "metadata": {},
     "output_type": "execute_result"
    }
   ],
   "source": [
    "w223[0][0]"
   ]
  },
  {
   "cell_type": "code",
   "execution_count": 24,
   "id": "5f97dbcb",
   "metadata": {},
   "outputs": [
    {
     "data": {
      "text/plain": [
       "matrix([[0.24652227]])"
      ]
     },
     "execution_count": 24,
     "metadata": {},
     "output_type": "execute_result"
    }
   ],
   "source": [
    "z2"
   ]
  },
  {
   "cell_type": "code",
   "execution_count": 25,
   "id": "adcf0721",
   "metadata": {},
   "outputs": [
    {
     "data": {
      "text/plain": [
       "matrix([[0.9, 0.9]])"
      ]
     },
     "execution_count": 25,
     "metadata": {},
     "output_type": "execute_result"
    }
   ],
   "source": [
    "z1.T"
   ]
  }
 ],
 "metadata": {
  "kernelspec": {
   "display_name": "Python 3",
   "language": "python",
   "name": "python3"
  },
  "language_info": {
   "codemirror_mode": {
    "name": "ipython",
    "version": 3
   },
   "file_extension": ".py",
   "mimetype": "text/x-python",
   "name": "python",
   "nbconvert_exporter": "python",
   "pygments_lexer": "ipython3",
   "version": "3.8.8"
  }
 },
 "nbformat": 4,
 "nbformat_minor": 5
}
