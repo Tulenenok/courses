{
 "cells": [
  {
   "cell_type": "markdown",
   "id": "95fea73b",
   "metadata": {},
   "source": [
    "# Модуль 3 RandomForest"
   ]
  },
  {
   "cell_type": "markdown",
   "id": "d38e4e4e",
   "metadata": {},
   "source": [
    "Идея - создаем много деревьев, каждому даем свою уменьшенную подвыборку из основных данных. Обучаем и берем среднее.\n",
    "Большинство параметров у всех деревьев (типа max_depth) будет одинаковым"
   ]
  },
  {
   "cell_type": "code",
   "execution_count": 1,
   "id": "763072cd",
   "metadata": {},
   "outputs": [],
   "source": [
    "from sklearn.ensemble import RandomForestClassifier"
   ]
  },
  {
   "cell_type": "code",
   "execution_count": 2,
   "id": "b3b7ebf2",
   "metadata": {},
   "outputs": [],
   "source": [
    "import pandas as pd\n",
    "import numpy as pd"
   ]
  },
  {
   "cell_type": "code",
   "execution_count": 3,
   "id": "0c769886",
   "metadata": {},
   "outputs": [],
   "source": [
    "clf_rf = RandomForestClassifier()"
   ]
  },
  {
   "cell_type": "code",
   "execution_count": null,
   "id": "f437b36d",
   "metadata": {},
   "outputs": [],
   "source": [
    "parametrs = {'n_estimators' : [10, 20, 30], }"
   ]
  }
 ],
 "metadata": {
  "kernelspec": {
   "display_name": "Python 3",
   "language": "python",
   "name": "python3"
  },
  "language_info": {
   "codemirror_mode": {
    "name": "ipython",
    "version": 3
   },
   "file_extension": ".py",
   "mimetype": "text/x-python",
   "name": "python",
   "nbconvert_exporter": "python",
   "pygments_lexer": "ipython3",
   "version": "3.8.8"
  }
 },
 "nbformat": 4,
 "nbformat_minor": 5
}
